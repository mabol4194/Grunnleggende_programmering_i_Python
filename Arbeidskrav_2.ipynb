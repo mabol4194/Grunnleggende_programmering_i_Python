{
 "cells": [
  {
   "cell_type": "markdown",
   "id": "05b835a3-567c-41a5-bcae-08d57f2450ba",
   "metadata": {},
   "source": [
    "## Arbeidskrav 2 PY1010\n",
    "\n",
    "Skrevet av Mari Nesse Bolstad\n",
    "12.01.2025\n"
   ]
  },
  {
   "cell_type": "markdown",
   "id": "438cec91-545b-418a-b028-dfb95ffd2160",
   "metadata": {},
   "source": [
    "### Oppgave 1"
   ]
  },
  {
   "cell_type": "code",
   "execution_count": 5,
   "id": "ac2c8da1-75e1-43c7-a402-6476d0ffc2a2",
   "metadata": {},
   "outputs": [
    {
     "name": "stdin",
     "output_type": "stream",
     "text": [
      "Hvilket år er du født i? 1990\n"
     ]
    },
    {
     "name": "stdout",
     "output_type": "stream",
     "text": [
      "I 2024 ble du 34 år gammel.\n",
      "I 2025 blir du 35 år gammel.\n"
     ]
    }
   ],
   "source": [
    "alder = int(input(\"Hvilket år er du født i?\"))\n",
    "\n",
    "tjuefire_alder = 2024 - alder\n",
    "\n",
    "tjuefem_alder = 2025 - alder\n",
    "\n",
    "print(f\"I 2024 ble du {tjuefire_alder} år gammel.\")\n",
    "print(f\"I 2025 blir du {tjuefem_alder} år gammel.\")"
   ]
  },
  {
   "cell_type": "markdown",
   "id": "01b9f438-19fb-4feb-bf66-64be9d7738e1",
   "metadata": {},
   "source": [
    "### Oppgave 2"
   ]
  },
  {
   "cell_type": "code",
   "execution_count": 13,
   "id": "2f00b4be-dc5d-4c9a-b7ff-59495ab661d3",
   "metadata": {},
   "outputs": [
    {
     "name": "stdin",
     "output_type": "stream",
     "text": [
      "Skriv inn antall elever. 21\n"
     ]
    },
    {
     "name": "stdout",
     "output_type": "stream",
     "text": [
      "Du må kjøpe inn 6 pizzaer til klassen.\n"
     ]
    }
   ],
   "source": [
    "antall_elever = int(input(\"Skriv inn antall elever.\"))\n",
    "\n",
    "pizzaer = antall_elever // 4\n",
    "\n",
    "if antall_elever % 4 != 0:\n",
    "    pizzaer += 1\n",
    "\n",
    "print(f\"Du må kjøpe inn {pizzaer} pizzaer til klassen.\")"
   ]
  },
  {
   "cell_type": "markdown",
   "id": "25761b68-f367-4a85-9935-2041e074045f",
   "metadata": {},
   "source": [
    "### Oppgave 3"
   ]
  },
  {
   "cell_type": "code",
   "execution_count": 27,
   "id": "b1c75220-c0a6-4a29-8456-8f5d2844ef68",
   "metadata": {},
   "outputs": [
    {
     "name": "stdin",
     "output_type": "stream",
     "text": [
      "Skriv inn gradtallet: 16\n"
     ]
    },
    {
     "name": "stdout",
     "output_type": "stream",
     "text": [
      "16.0 grader er lik 0.2793 radianer.\n"
     ]
    }
   ],
   "source": [
    "import numpy as np\n",
    "\n",
    "v_grad = float(input(\"Skriv inn gradtallet:\"))\n",
    "\n",
    "v_rad = v_grad*np.pi/180\n",
    "\n",
    "print(f\"{v_grad} grader er lik {v_rad:.4f} radianer.\")"
   ]
  },
  {
   "cell_type": "markdown",
   "id": "06107807-0f8a-43ca-8114-353dabf18715",
   "metadata": {},
   "source": [
    "### Oppgave 4"
   ]
  },
  {
   "cell_type": "code",
   "execution_count": 49,
   "id": "dd051e7b-e292-48bc-9e95-591fe8c743e9",
   "metadata": {},
   "outputs": [],
   "source": [
    "#a)\n",
    "\n",
    "data = {\n",
    "    \"Norge\": [\"Oslo\", 0.634],\n",
    "    \"England\": [\"London\", 8.982],\n",
    "    \"Frankrike\": [\"Paris\", 2.161],\n",
    "    \"Italia\": [\"Roma\", 2.873]\n",
    "    }"
   ]
  },
  {
   "cell_type": "code",
   "execution_count": 76,
   "id": "f85734a2-5b1e-400d-a832-b6387e9ce35b",
   "metadata": {},
   "outputs": [
    {
     "name": "stdin",
     "output_type": "stream",
     "text": [
      "Skriv inn et land Norge\n"
     ]
    },
    {
     "name": "stdout",
     "output_type": "stream",
     "text": [
      "Oslo er hovedstaden i Norge og det er 0.634 millioner innbyggere i Oslo\n"
     ]
    }
   ],
   "source": [
    "#b)\n",
    "\n",
    "land = input(\"Skriv inn et land\")\n",
    "\n",
    "print(f\"{data[land][0]} er hovedstaden i {land} og det er {data[land][1]} millioner innbyggere i {data[land][0]}\")"
   ]
  },
  {
   "cell_type": "raw",
   "id": "f01cab60-dc06-4884-99bb-65339e6dbee4",
   "metadata": {
    "editable": true,
    "slideshow": {
     "slide_type": ""
    },
    "tags": []
   },
   "source": [
    "#c)\n",
    "\n",
    "nytt_land = input(\"Skriv inn et land du vil legge inn informasjon om.\")\n",
    "\n",
    "hovedstad = input(f\"Skriv inn hovedstaden i {nytt_land}:\")\n",
    "innbyggere = float(input(f\"Skriv inn antall innbyggere i mill. for {hovedstad}:\"))\n",
    "\n",
    "data[nytt_land] = [hovedstad, innbyggere]\n",
    "print(\"Ny informasjon er lagt til.\")\n",
    "print(data)"
   ]
  },
  {
   "cell_type": "markdown",
   "id": "42780e39-b902-4862-9337-5b3e3d6cf081",
   "metadata": {},
   "source": [
    "### Oppgave 5"
   ]
  },
  {
   "cell_type": "code",
   "execution_count": 19,
   "id": "68a3c42d-184e-462e-9f3a-695f0bfaea51",
   "metadata": {},
   "outputs": [
    {
     "name": "stdin",
     "output_type": "stream",
     "text": [
      "Hvor lang er side a? 1\n",
      "Hvor lang er side b? 2\n"
     ]
    },
    {
     "name": "stdout",
     "output_type": "stream",
     "text": [
      "Den totale omkretsen til figuren er 1.39 og den ytre omkretsen er 5.81\n"
     ]
    }
   ],
   "source": [
    "import numpy as np\n",
    "\n",
    "def lin_areal_omkrets(a,b):\n",
    "    radius = a / 2\n",
    "    areal_halvsirkel = (np.pi*radius**2) / 2\n",
    "    areal_trekant = (a*b) / 2\n",
    "    t_a = areal_halvsirkel + areal_trekant\n",
    "    omkrets_halvsirkel = np.pi*radius\n",
    "    omkrets_trekant = np.sqrt(a**2 + b**2) + b\n",
    "    y_o = omkrets_halvsirkel + omkrets_trekant\n",
    "    return (t_a, y_o)\n",
    "\n",
    "a1 = float(input(\"Hvor lang er side a?\"))\n",
    "b1 = float(input(\"Hvor lang er side b?\"))\n",
    "\n",
    "(totalt_areal, ytre_omkrets) = lin_areal_omkrets(a1,b1)\n",
    "print(f\"Det totale arealet til figuren er {totalt_areal:.2f} og den ytre omkretsen er {ytre_omkrets:.2f}\")"
   ]
  },
  {
   "cell_type": "markdown",
   "id": "ef248316-1200-4f6f-9493-007d29d166d2",
   "metadata": {},
   "source": [
    "### Oppgave 6"
   ]
  },
  {
   "cell_type": "code",
   "execution_count": 37,
   "id": "5210a9de-f97a-41b5-8677-149dab5ad9db",
   "metadata": {},
   "outputs": [
    {
     "data": {
      "text/plain": [
       "Text(0, 0.5, 'verdi y')"
      ]
     },
     "execution_count": 37,
     "metadata": {},
     "output_type": "execute_result"
    },
    {
     "data": {
      "image/png": "[encoded data removed]",
      "text/plain": [
       "<Figure size 640x480 with 1 Axes>"
      ]
     },
     "metadata": {},
     "output_type": "display_data"
    }
   ],
   "source": [
    "import numpy as np\n",
    "import matplotlib.pyplot as plt\n",
    "\n",
    "def lin_f(x):\n",
    "    y = - x**2 - 5\n",
    "    return y\n",
    "\n",
    "x = np.linspace(-10, 10, 200)\n",
    "y = lin_f(x)\n",
    "\n",
    "plt.plot(x,y)\n",
    "plt.title(\"Oppgave 6\")\n",
    "plt.xlabel(\"verdi x\")\n",
    "plt.ylabel(\"verdi y\")"
   ]
  },
  {
   "cell_type": "code",
   "execution_count": null,
   "id": "23a1f11f-9279-4383-877d-d090422b51a8",
   "metadata": {},
   "outputs": [],
   "source": []
  }
 ],
 "metadata": {
  "kernelspec": {
   "display_name": "anaconda-ai-2024.04-py310",
   "language": "python",
   "name": "conda-env-anaconda-ai-2024.04-py310-py"
  },
  "language_info": {
   "codemirror_mode": {
    "name": "ipython",
    "version": 3
   },
   "file_extension": ".py",
   "mimetype": "text/x-python",
   "name": "python",
   "nbconvert_exporter": "python",
   "pygments_lexer": "ipython3",
   "version": "3.10.13"
  }
 },
 "nbformat": 4,
 "nbformat_minor": 5
}
